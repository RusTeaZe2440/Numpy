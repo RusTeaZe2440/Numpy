{
 "cells": [
  {
   "cell_type": "code",
   "execution_count": 1,
   "id": "03fbce97",
   "metadata": {},
   "outputs": [],
   "source": [
    "import numpy as np "
   ]
  },
  {
   "cell_type": "markdown",
   "id": "62d99088",
   "metadata": {},
   "source": [
    "# Numpy vs Python List #which one is faster?"
   ]
  },
  {
   "cell_type": "code",
   "execution_count": 2,
   "id": "783df023",
   "metadata": {},
   "outputs": [
    {
     "name": "stdout",
     "output_type": "stream",
     "text": [
      "0.001997232437133789\n"
     ]
    }
   ],
   "source": [
    "import time\n",
    "a = [i for i in range(10000)]\n",
    "b = [i for i in range(10000,20000)]\n",
    "c = []\n",
    "start = time.time()\n",
    "for i in range(len(a)):\n",
    "    c.append(a[i]+b[i])\n",
    "print(time.time()-start)"
   ]
  },
  {
   "cell_type": "code",
   "execution_count": 3,
   "id": "581d41db",
   "metadata": {},
   "outputs": [
    {
     "name": "stdout",
     "output_type": "stream",
     "text": [
      "0.0\n"
     ]
    }
   ],
   "source": [
    "a = np.arange(10000)\n",
    "b = np.arange(10000,20000)\n",
    "\n",
    "start = time.time()\n",
    "c = a +b\n",
    "print(time.time() - start)"
   ]
  },
  {
   "cell_type": "markdown",
   "id": "73009b64",
   "metadata": {},
   "source": [
    "# Fancy Indexing\n"
   ]
  },
  {
   "cell_type": "code",
   "execution_count": 4,
   "id": "6a1acb12",
   "metadata": {},
   "outputs": [
    {
     "data": {
      "text/plain": [
       "array([[ 0,  1,  2,  3],\n",
       "       [ 4,  5,  6,  7],\n",
       "       [ 8,  9, 10, 11],\n",
       "       [12, 13, 14, 15],\n",
       "       [16, 17, 18, 19],\n",
       "       [20, 21, 22, 23],\n",
       "       [24, 25, 26, 27],\n",
       "       [28, 29, 30, 31],\n",
       "       [32, 33, 34, 35]])"
      ]
     },
     "execution_count": 4,
     "metadata": {},
     "output_type": "execute_result"
    }
   ],
   "source": [
    "a = np.arange(36).reshape(9,4)\n",
    "a"
   ]
  },
  {
   "cell_type": "code",
   "execution_count": 5,
   "id": "00455aef",
   "metadata": {},
   "outputs": [
    {
     "data": {
      "text/plain": [
       "array([[ 4,  5,  6,  7],\n",
       "       [12, 13, 14, 15],\n",
       "       [32, 33, 34, 35],\n",
       "       [28, 29, 30, 31]])"
      ]
     },
     "execution_count": 5,
     "metadata": {},
     "output_type": "execute_result"
    }
   ],
   "source": [
    "a[[1,3,8,7]] #rows"
   ]
  },
  {
   "cell_type": "code",
   "execution_count": 6,
   "id": "691f95cb",
   "metadata": {},
   "outputs": [
    {
     "data": {
      "text/plain": [
       "array([[ 1,  3],\n",
       "       [ 5,  7],\n",
       "       [ 9, 11],\n",
       "       [13, 15],\n",
       "       [17, 19],\n",
       "       [21, 23],\n",
       "       [25, 27],\n",
       "       [29, 31],\n",
       "       [33, 35]])"
      ]
     },
     "execution_count": 6,
     "metadata": {},
     "output_type": "execute_result"
    }
   ],
   "source": [
    "# for columns\n",
    "\n",
    "a[:,[1,3]]"
   ]
  },
  {
   "cell_type": "markdown",
   "id": "410d498f",
   "metadata": {},
   "source": [
    "# Boolean Indexing\n"
   ]
  },
  {
   "cell_type": "code",
   "execution_count": 7,
   "id": "2a57fdb5",
   "metadata": {},
   "outputs": [
    {
     "data": {
      "text/plain": [
       "array([[40, 38, 36, 24,  2],\n",
       "       [16,  2, 15, 16, 36],\n",
       "       [ 9, 17, 31, 28, 34],\n",
       "       [ 5, 47, 25, 26, 31],\n",
       "       [17, 37,  5, 15, 20]])"
      ]
     },
     "execution_count": 7,
     "metadata": {},
     "output_type": "execute_result"
    }
   ],
   "source": [
    "b = np.random.randint(1,50,25).reshape(5,5)\n",
    "b"
   ]
  },
  {
   "cell_type": "code",
   "execution_count": 8,
   "id": "516643ed",
   "metadata": {},
   "outputs": [
    {
     "data": {
      "text/plain": [
       "array([40, 38, 36, 24, 36, 31, 28, 34, 47, 25, 26, 31, 37])"
      ]
     },
     "execution_count": 8,
     "metadata": {},
     "output_type": "execute_result"
    }
   ],
   "source": [
    "# extract no. greater than 20\n",
    "b[b>20]"
   ]
  },
  {
   "cell_type": "code",
   "execution_count": 9,
   "id": "88d2a893",
   "metadata": {},
   "outputs": [
    {
     "data": {
      "text/plain": [
       "array([40, 38, 36, 24, 36, 28, 34, 26])"
      ]
     },
     "execution_count": 9,
     "metadata": {},
     "output_type": "execute_result"
    }
   ],
   "source": [
    "# extract no. greater than 20 and even no.\n",
    "\n",
    "b[(b>20) & (b %2 == 0)]"
   ]
  },
  {
   "cell_type": "code",
   "execution_count": 10,
   "id": "e810e4b2",
   "metadata": {},
   "outputs": [
    {
     "data": {
      "text/plain": [
       "array([15, 17, 31, 47, 25, 31, 17, 37, 15])"
      ]
     },
     "execution_count": 10,
     "metadata": {},
     "output_type": "execute_result"
    }
   ],
   "source": [
    "# extract no. greater than 10 and odd no.\n",
    "b[(b>10) & (b %2 != 0)]"
   ]
  },
  {
   "cell_type": "code",
   "execution_count": 11,
   "id": "02c1f4ac",
   "metadata": {},
   "outputs": [
    {
     "data": {
      "text/plain": [
       "array([36, 24, 15, 36,  9, 15])"
      ]
     },
     "execution_count": 11,
     "metadata": {},
     "output_type": "execute_result"
    }
   ],
   "source": [
    "# divisible by 3\n",
    "\n",
    "b[b%3 == 0]"
   ]
  },
  {
   "cell_type": "markdown",
   "id": "7091fbb8",
   "metadata": {},
   "source": [
    "# BroadCasting\n"
   ]
  },
  {
   "cell_type": "markdown",
   "id": "14436817",
   "metadata": {},
   "source": [
    "The term broadcasting describes how NumPy treats arrays with different shapes during arithmetic operations.\n",
    "\n",
    "The smaller array is “broadcast” across the larger array so that they have compatible shapes.\n"
   ]
  },
  {
   "cell_type": "code",
   "execution_count": 12,
   "id": "9ab1175e",
   "metadata": {
    "scrolled": true
   },
   "outputs": [
    {
     "data": {
      "text/plain": [
       "array([[0, 1, 2],\n",
       "       [1, 2, 3],\n",
       "       [2, 3, 4],\n",
       "       [3, 4, 5]])"
      ]
     },
     "execution_count": 12,
     "metadata": {},
     "output_type": "execute_result"
    }
   ],
   "source": [
    "a = np.arange(4).reshape(4,1)\n",
    "b = np.arange(3)\n",
    "\n",
    "a+b"
   ]
  },
  {
   "cell_type": "markdown",
   "id": "3cd49a96",
   "metadata": {},
   "source": [
    "#### Broadcasting Rules\n",
    "\n",
    "**1. Make the two arrays have the same number of dimensions.**<br>\n",
    "- If the numbers of dimensions of the two arrays are different, add new dimensions with size 1 to the head of the array with the smaller dimension.<br>"
   ]
  },
  {
   "cell_type": "markdown",
   "id": "80c175c4",
   "metadata": {},
   "source": [
    "**2. Make each dimension of the two arrays the same size.**<br>\n",
    "- If the sizes of each dimension of the two arrays do not match, dimensions with size 1 are stretched to the size of the other array.\n",
    "- If there is a dimension whose size is not 1 in either of the two arrays, it cannot be broadcasted, and an error is raised."
   ]
  },
  {
   "attachments": {
    "02.05-broadcasting.png": {
     "image/png": "[encoded data removed]"
    }
   },
   "cell_type": "markdown",
   "id": "a510b1ba",
   "metadata": {},
   "source": [
    "![02.05-broadcasting.png](attachment:02.05-broadcasting.png)"
   ]
  },
  {
   "cell_type": "code",
   "execution_count": 13,
   "id": "a36f116e",
   "metadata": {},
   "outputs": [
    {
     "name": "stdout",
     "output_type": "stream",
     "text": [
      "[[0 1 2]\n",
      " [1 2 3]\n",
      " [2 3 4]]\n"
     ]
    }
   ],
   "source": [
    "a = np.arange(3).reshape(3,1)\n",
    "b = np.arange(3)\n",
    "print(a+b)"
   ]
  },
  {
   "cell_type": "markdown",
   "id": "93349663",
   "metadata": {},
   "source": [
    "# Sigmoid"
   ]
  },
  {
   "cell_type": "code",
   "execution_count": 14,
   "id": "ce6fcfff",
   "metadata": {
    "scrolled": true
   },
   "outputs": [
    {
     "data": {
      "text/plain": [
       "array([[0.73105858, 0.88079708],\n",
       "       [0.88079708, 0.95257413],\n",
       "       [0.98201379, 0.99330715]])"
      ]
     },
     "execution_count": 14,
     "metadata": {},
     "output_type": "execute_result"
    }
   ],
   "source": [
    "import numpy as np\n",
    "def sigmoid(num):\n",
    "    return 1/(1+np.exp(-(num)))\n",
    "\n",
    "sigmoid(3)\n",
    "    \n",
    "arr = np.array([[1,2],[2,3],[4,5]])\n",
    "sigmoid(arr)"
   ]
  },
  {
   "cell_type": "markdown",
   "id": "6d044c67",
   "metadata": {},
   "source": [
    "# Mean Square Error"
   ]
  },
  {
   "cell_type": "code",
   "execution_count": 15,
   "id": "8dc57538",
   "metadata": {},
   "outputs": [
    {
     "data": {
      "text/plain": [
       "13.0"
      ]
     },
     "execution_count": 15,
     "metadata": {},
     "output_type": "execute_result"
    }
   ],
   "source": [
    "actual_value = np.random.randint(1,10,5)\n",
    "predicted_value = np.random.randint(1,10,5)\n",
    "\n",
    "def mse(actual,predicted):\n",
    "    return np.mean(np.square(actual_value - predicted_value))\n",
    "\n",
    "mse(actual_value,predicted_value)"
   ]
  },
  {
   "cell_type": "markdown",
   "id": "f5f84bcc",
   "metadata": {},
   "source": [
    "# Working with Missing Values"
   ]
  },
  {
   "cell_type": "code",
   "execution_count": 16,
   "id": "5b5b7a86",
   "metadata": {
    "scrolled": false
   },
   "outputs": [
    {
     "data": {
      "text/plain": [
       "array([ 2.,  2., 45.,  3., nan])"
      ]
     },
     "execution_count": 16,
     "metadata": {},
     "output_type": "execute_result"
    }
   ],
   "source": [
    "b = np.array([2,2,45,3,np.nan])\n",
    "b"
   ]
  },
  {
   "cell_type": "code",
   "execution_count": 17,
   "id": "b335ab6f",
   "metadata": {
    "scrolled": true
   },
   "outputs": [
    {
     "data": {
      "text/plain": [
       "array([ 2.,  2., 45.,  3.])"
      ]
     },
     "execution_count": 17,
     "metadata": {},
     "output_type": "execute_result"
    }
   ],
   "source": [
    "b[~np.isnan(b)]"
   ]
  },
  {
   "cell_type": "markdown",
   "id": "ce5c1128",
   "metadata": {},
   "source": [
    "#  Plotting Graphs"
   ]
  },
  {
   "cell_type": "code",
   "execution_count": 19,
   "id": "1b1e2804",
   "metadata": {},
   "outputs": [
    {
     "data": {
      "text/plain": [
       "Text(0.5, 1.0, 'Sigmoid Functions')"
      ]
     },
     "execution_count": 19,
     "metadata": {},
     "output_type": "execute_result"
    },
    {
     "data": {
      "image/png": "[encoded data removed]",
      "text/plain": [
       "<Figure size 640x480 with 1 Axes>"
      ]
     },
     "metadata": {},
     "output_type": "display_data"
    }
   ],
   "source": [
    "# lets plot sigmoid function graph\n",
    "import matplotlib.pyplot as plt\n",
    "x = np.linspace(-5,5,100)\n",
    "y = 1/(1+np.exp(-x))\n",
    "\n",
    "plt.plot(x,y)\n",
    "plt.title(\"Sigmoid Function\")\n"
   ]
  },
  {
   "cell_type": "code",
   "execution_count": null,
   "id": "5c38fa94",
   "metadata": {},
   "outputs": [],
   "source": []
  }
 ],
 "metadata": {
  "kernelspec": {
   "display_name": "Python 3 (ipykernel)",
   "language": "python",
   "name": "python3"
  },
  "language_info": {
   "codemirror_mode": {
    "name": "ipython",
    "version": 3
   },
   "file_extension": ".py",
   "mimetype": "text/x-python",
   "name": "python",
   "nbconvert_exporter": "python",
   "pygments_lexer": "ipython3",
   "version": "3.9.13"
  }
 },
 "nbformat": 4,
 "nbformat_minor": 5
}
